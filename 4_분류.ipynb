{
 "cells": [
  {
   "cell_type": "markdown",
   "metadata": {},
   "source": [
    "# 분류 (Classification)\n",
    "\n",
    "1. 목적: 카테고리적인 값을 예측하는 것이 목적입니다. 이는 주어진 데이터가 특정 범주나 클래스에 속하는지를 결정하는 것입니다.\n",
    "\n",
    "2. 출력 유형: 범주형 값(이산 값)을 출력합니다. 예를 들어, 이메일이 스팸인지 아닌지, 이미지에 표시된 객체의 종류 등이 분류 문제의 예시입니다.\n",
    "\n",
    "3. 모델 예시: 로지스틱 회귀(회귀지만 분류에 사용됨), 결정 트리, 랜덤 포레스트, K-최근접 이웃(KNN), 서포트 벡터 머신 등.\n",
    "\n",
    "4. 평가 방법: 정확도(Accuracy), 정밀도(Precision), 재현율(Recall), F1 점수, 혼동 행렬(Confusion Matrix) 등으로 평가합니다."
   ]
  },
  {
   "cell_type": "code",
   "execution_count": null,
   "metadata": {},
   "outputs": [],
   "source": []
  }
 ],
 "metadata": {
  "language_info": {
   "name": "python"
  }
 },
 "nbformat": 4,
 "nbformat_minor": 2
}
