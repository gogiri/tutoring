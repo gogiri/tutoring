{
 "cells": [
  {
   "cell_type": "markdown",
   "metadata": {},
   "source": [
    "# 파이썬\n",
    "1. 파이썬은 인간다운 언어이다\n",
    "2. 문법이 쉬워 빠르게 배울 수 있다\n",
    "3. 무료이지만 강력하다\n",
    "4. 간결하다\n",
    "5. 프로그래밍을 즐기게 해 준다\n",
    "6. 개발 속도가 빠르다\n",
    "\n",
    "위키독스\n",
    "\n",
    "-> 동적 타입 언어 (변수의 자료형을 지정하지 않고 선언하는 것만으로 값을 지정할 수 있다.)"
   ]
  },
  {
   "cell_type": "code",
   "execution_count": 1,
   "metadata": {},
   "outputs": [],
   "source": [
    "import pandas as pd\n",
    "import numpy as np"
   ]
  },
  {
   "cell_type": "code",
   "execution_count": 2,
   "metadata": {},
   "outputs": [
    {
     "name": "stdout",
     "output_type": "stream",
     "text": [
      "10 hangil\n"
     ]
    }
   ],
   "source": [
    "a = 10\n",
    "b = 'hangil'\n",
    "\n",
    "print(a,b)"
   ]
  },
  {
   "cell_type": "markdown",
   "metadata": {},
   "source": [
    "# 식별자\n",
    "\n",
    "식별자는 프로그래밍 언어에서 이름을 붙일 때 사용하는 단어입니다. 주로 변수 또는 함수 이름 등으로 사용됩니다. 식별자는 기본적으로 다음과 같은 규칙을 지켜 만들어야 합니다.\n",
    "\n",
    "1. 키워드*를 사용하면 안 됩니다.\n",
    "2. 특수 문자는 언더 바(_ )만 허용됩니다.\n",
    "3. 숫자로 시작하면 안 됩니다.\n",
    "4. 공백을 포함할 수 없습니다.\n",
    "+ 가급적 알파벳을 사용해주세요.\n",
    "+ 유의미한 뜻으로 짓되 누구나 알 수 있어야 합니다."
   ]
  },
  {
   "cell_type": "markdown",
   "metadata": {},
   "source": [
    "keyword\n",
    "['False', 'None', 'True', '__peg_parser__', 'and', 'as', 'assert', 'async', 'await', 'break', 'class', 'continue', 'def', 'del', 'elif', 'else', 'except', 'finally', 'for', 'from', 'global', 'if', 'import', 'in', 'is', 'lambda', 'nonlocal', 'not', 'or', 'pass', 'raise', 'return', 'try', 'while', 'with', 'yield']"
   ]
  },
  {
   "cell_type": "code",
   "execution_count": 3,
   "metadata": {},
   "outputs": [
    {
     "name": "stdout",
     "output_type": "stream",
     "text": [
      "['False', 'None', 'True', '__peg_parser__', 'and', 'as', 'assert', 'async', 'await', 'break', 'class', 'continue', 'def', 'del', 'elif', 'else', 'except', 'finally', 'for', 'from', 'global', 'if', 'import', 'in', 'is', 'lambda', 'nonlocal', 'not', 'or', 'pass', 'raise', 'return', 'try', 'while', 'with', 'yield']\n"
     ]
    }
   ],
   "source": [
    "import keyword\n",
    "print(keyword.kwlist)"
   ]
  },
  {
   "cell_type": "markdown",
   "metadata": {},
   "source": [
    "#스네이크 케이스\n",
    "\n",
    "단어 사이에 언더바를 사용하여 식별자를 만든다.\n",
    "\n",
    "스네이크 케이스 -> 함수 또는 변수"
   ]
  },
  {
   "cell_type": "code",
   "execution_count": 10,
   "metadata": {},
   "outputs": [],
   "source": [
    "choi_hangil = 17\n",
    "\n",
    "df_kospi = pd.read_csv('./data/0900_0905.csv', index_col=0)"
   ]
  },
  {
   "cell_type": "markdown",
   "metadata": {},
   "source": [
    "#캐멀 케이스\n",
    "\n",
    "단어들의 첫 글자를 대문자로 만들어 식별자를 만든다.\n",
    "\n",
    "캐멀 케이스 -> 클래스"
   ]
  },
  {
   "cell_type": "code",
   "execution_count": 11,
   "metadata": {},
   "outputs": [],
   "source": [
    "from sklearn.preprocessing import MinMaxScaler"
   ]
  },
  {
   "cell_type": "code",
   "execution_count": 12,
   "metadata": {},
   "outputs": [],
   "source": [
    "ChoiHangil = 17\n",
    "\n",
    "class Account:\n",
    "        num_accounts = 0\n",
    "        def __init__(self, name):\n",
    "                self.name = name\n",
    "                Account.num_accounts += 1\n",
    "        def __del__(self):\n",
    "                Account.num_accounts -= 1\n",
    "\n",
    "kim = Account(\"kim\")\n",
    "lee = Account(\"lee\")"
   ]
  },
  {
   "cell_type": "code",
   "execution_count": 13,
   "metadata": {},
   "outputs": [
    {
     "data": {
      "text/plain": [
       "1"
      ]
     },
     "execution_count": 13,
     "metadata": {},
     "output_type": "execute_result"
    }
   ],
   "source": [
    "kim.num_accounts"
   ]
  },
  {
   "cell_type": "markdown",
   "metadata": {},
   "source": [
    "# 데이터프레임\n",
    "\n",
    "행, 열\n",
    "\n",
    "rows : 그 날의 모든 주식 데이터\n",
    "columns : 모든 날짜의 특정 주식 데이터\n"
   ]
  },
  {
   "cell_type": "code",
   "execution_count": 14,
   "metadata": {},
   "outputs": [
    {
     "data": {
      "text/html": [
       "<div>\n",
       "<style scoped>\n",
       "    .dataframe tbody tr th:only-of-type {\n",
       "        vertical-align: middle;\n",
       "    }\n",
       "\n",
       "    .dataframe tbody tr th {\n",
       "        vertical-align: top;\n",
       "    }\n",
       "\n",
       "    .dataframe thead th {\n",
       "        text-align: right;\n",
       "    }\n",
       "</style>\n",
       "<table border=\"1\" class=\"dataframe\">\n",
       "  <thead>\n",
       "    <tr style=\"text-align: right;\">\n",
       "      <th></th>\n",
       "      <th>date</th>\n",
       "      <th>y_change</th>\n",
       "      <th>KODEX_return</th>\n",
       "      <th>PER</th>\n",
       "      <th>PBR</th>\n",
       "      <th>Dividend_Yield</th>\n",
       "      <th>Kosdaq150_return</th>\n",
       "      <th>S&amp;P500_return</th>\n",
       "      <th>WTI_change</th>\n",
       "      <th>WTI_Volume</th>\n",
       "      <th>T10Y2Y</th>\n",
       "      <th>T10Y3M</th>\n",
       "      <th>VIX</th>\n",
       "    </tr>\n",
       "  </thead>\n",
       "  <tbody>\n",
       "    <tr>\n",
       "      <th>0</th>\n",
       "      <td>2021-01-05</td>\n",
       "      <td>0.0</td>\n",
       "      <td>113.0</td>\n",
       "      <td>30.68</td>\n",
       "      <td>1.20</td>\n",
       "      <td>1.42</td>\n",
       "      <td>0.0</td>\n",
       "      <td>28.84</td>\n",
       "      <td>2.55</td>\n",
       "      <td>643.19</td>\n",
       "      <td>0.83</td>\n",
       "      <td>0.87</td>\n",
       "      <td>-1.60</td>\n",
       "    </tr>\n",
       "    <tr>\n",
       "      <th>1</th>\n",
       "      <td>2021-01-06</td>\n",
       "      <td>0.0</td>\n",
       "      <td>433.0</td>\n",
       "      <td>30.45</td>\n",
       "      <td>1.20</td>\n",
       "      <td>1.43</td>\n",
       "      <td>88.0</td>\n",
       "      <td>35.94</td>\n",
       "      <td>0.81</td>\n",
       "      <td>509.37</td>\n",
       "      <td>0.90</td>\n",
       "      <td>0.95</td>\n",
       "      <td>-0.41</td>\n",
       "    </tr>\n",
       "    <tr>\n",
       "      <th>2</th>\n",
       "      <td>2021-01-07</td>\n",
       "      <td>0.0</td>\n",
       "      <td>514.0</td>\n",
       "      <td>31.11</td>\n",
       "      <td>1.22</td>\n",
       "      <td>1.40</td>\n",
       "      <td>93.0</td>\n",
       "      <td>39.08</td>\n",
       "      <td>0.30</td>\n",
       "      <td>369.29</td>\n",
       "      <td>0.94</td>\n",
       "      <td>0.99</td>\n",
       "      <td>-1.30</td>\n",
       "    </tr>\n",
       "    <tr>\n",
       "      <th>3</th>\n",
       "      <td>2021-01-08</td>\n",
       "      <td>0.0</td>\n",
       "      <td>429.0</td>\n",
       "      <td>32.35</td>\n",
       "      <td>1.27</td>\n",
       "      <td>1.35</td>\n",
       "      <td>73.0</td>\n",
       "      <td>9.63</td>\n",
       "      <td>1.31</td>\n",
       "      <td>499.42</td>\n",
       "      <td>0.99</td>\n",
       "      <td>1.05</td>\n",
       "      <td>-0.87</td>\n",
       "    </tr>\n",
       "    <tr>\n",
       "      <th>4</th>\n",
       "      <td>2021-01-11</td>\n",
       "      <td>0.0</td>\n",
       "      <td>-212.0</td>\n",
       "      <td>32.31</td>\n",
       "      <td>1.27</td>\n",
       "      <td>1.35</td>\n",
       "      <td>-59.0</td>\n",
       "      <td>-3.53</td>\n",
       "      <td>-0.33</td>\n",
       "      <td>394.82</td>\n",
       "      <td>1.01</td>\n",
       "      <td>1.07</td>\n",
       "      <td>0.77</td>\n",
       "    </tr>\n",
       "    <tr>\n",
       "      <th>...</th>\n",
       "      <td>...</td>\n",
       "      <td>...</td>\n",
       "      <td>...</td>\n",
       "      <td>...</td>\n",
       "      <td>...</td>\n",
       "      <td>...</td>\n",
       "      <td>...</td>\n",
       "      <td>...</td>\n",
       "      <td>...</td>\n",
       "      <td>...</td>\n",
       "      <td>...</td>\n",
       "      <td>...</td>\n",
       "      <td>...</td>\n",
       "    </tr>\n",
       "    <tr>\n",
       "      <th>639</th>\n",
       "      <td>2023-10-18</td>\n",
       "      <td>0.0</td>\n",
       "      <td>-425.0</td>\n",
       "      <td>18.48</td>\n",
       "      <td>0.89</td>\n",
       "      <td>2.00</td>\n",
       "      <td>-250.0</td>\n",
       "      <td>-42.75</td>\n",
       "      <td>0.51</td>\n",
       "      <td>92.80</td>\n",
       "      <td>-0.28</td>\n",
       "      <td>-0.70</td>\n",
       "      <td>0.86</td>\n",
       "    </tr>\n",
       "    <tr>\n",
       "      <th>640</th>\n",
       "      <td>2023-10-19</td>\n",
       "      <td>0.0</td>\n",
       "      <td>-255.0</td>\n",
       "      <td>18.12</td>\n",
       "      <td>0.88</td>\n",
       "      <td>2.04</td>\n",
       "      <td>-180.0</td>\n",
       "      <td>-43.36</td>\n",
       "      <td>1.13</td>\n",
       "      <td>72.06</td>\n",
       "      <td>-0.16</td>\n",
       "      <td>-0.62</td>\n",
       "      <td>1.67</td>\n",
       "    </tr>\n",
       "    <tr>\n",
       "      <th>641</th>\n",
       "      <td>2023-10-20</td>\n",
       "      <td>0.0</td>\n",
       "      <td>-35.0</td>\n",
       "      <td>17.82</td>\n",
       "      <td>0.86</td>\n",
       "      <td>2.08</td>\n",
       "      <td>-35.0</td>\n",
       "      <td>-49.69</td>\n",
       "      <td>-1.53</td>\n",
       "      <td>27.31</td>\n",
       "      <td>-0.14</td>\n",
       "      <td>-0.65</td>\n",
       "      <td>0.12</td>\n",
       "    </tr>\n",
       "    <tr>\n",
       "      <th>642</th>\n",
       "      <td>2023-10-23</td>\n",
       "      <td>0.0</td>\n",
       "      <td>150.0</td>\n",
       "      <td>17.68</td>\n",
       "      <td>0.86</td>\n",
       "      <td>2.09</td>\n",
       "      <td>125.0</td>\n",
       "      <td>6.64</td>\n",
       "      <td>-2.51</td>\n",
       "      <td>315.52</td>\n",
       "      <td>-0.19</td>\n",
       "      <td>-0.72</td>\n",
       "      <td>-1.46</td>\n",
       "    </tr>\n",
       "    <tr>\n",
       "      <th>643</th>\n",
       "      <td>2023-10-24</td>\n",
       "      <td>0.0</td>\n",
       "      <td>90.0</td>\n",
       "      <td>17.88</td>\n",
       "      <td>0.87</td>\n",
       "      <td>2.07</td>\n",
       "      <td>40.0</td>\n",
       "      <td>11.89</td>\n",
       "      <td>-2.41</td>\n",
       "      <td>370.59</td>\n",
       "      <td>-0.19</td>\n",
       "      <td>-0.75</td>\n",
       "      <td>-1.06</td>\n",
       "    </tr>\n",
       "  </tbody>\n",
       "</table>\n",
       "<p>644 rows × 13 columns</p>\n",
       "</div>"
      ],
      "text/plain": [
       "           date  y_change  KODEX_return    PER   PBR  Dividend_Yield  \\\n",
       "0    2021-01-05       0.0         113.0  30.68  1.20            1.42   \n",
       "1    2021-01-06       0.0         433.0  30.45  1.20            1.43   \n",
       "2    2021-01-07       0.0         514.0  31.11  1.22            1.40   \n",
       "3    2021-01-08       0.0         429.0  32.35  1.27            1.35   \n",
       "4    2021-01-11       0.0        -212.0  32.31  1.27            1.35   \n",
       "..          ...       ...           ...    ...   ...             ...   \n",
       "639  2023-10-18       0.0        -425.0  18.48  0.89            2.00   \n",
       "640  2023-10-19       0.0        -255.0  18.12  0.88            2.04   \n",
       "641  2023-10-20       0.0         -35.0  17.82  0.86            2.08   \n",
       "642  2023-10-23       0.0         150.0  17.68  0.86            2.09   \n",
       "643  2023-10-24       0.0          90.0  17.88  0.87            2.07   \n",
       "\n",
       "     Kosdaq150_return  S&P500_return  WTI_change  WTI_Volume  T10Y2Y  T10Y3M  \\\n",
       "0                 0.0          28.84        2.55      643.19    0.83    0.87   \n",
       "1                88.0          35.94        0.81      509.37    0.90    0.95   \n",
       "2                93.0          39.08        0.30      369.29    0.94    0.99   \n",
       "3                73.0           9.63        1.31      499.42    0.99    1.05   \n",
       "4               -59.0          -3.53       -0.33      394.82    1.01    1.07   \n",
       "..                ...            ...         ...         ...     ...     ...   \n",
       "639            -250.0         -42.75        0.51       92.80   -0.28   -0.70   \n",
       "640            -180.0         -43.36        1.13       72.06   -0.16   -0.62   \n",
       "641             -35.0         -49.69       -1.53       27.31   -0.14   -0.65   \n",
       "642             125.0           6.64       -2.51      315.52   -0.19   -0.72   \n",
       "643              40.0          11.89       -2.41      370.59   -0.19   -0.75   \n",
       "\n",
       "      VIX  \n",
       "0   -1.60  \n",
       "1   -0.41  \n",
       "2   -1.30  \n",
       "3   -0.87  \n",
       "4    0.77  \n",
       "..    ...  \n",
       "639  0.86  \n",
       "640  1.67  \n",
       "641  0.12  \n",
       "642 -1.46  \n",
       "643 -1.06  \n",
       "\n",
       "[644 rows x 13 columns]"
      ]
     },
     "execution_count": 14,
     "metadata": {},
     "output_type": "execute_result"
    }
   ],
   "source": [
    "df_kospi"
   ]
  },
  {
   "cell_type": "code",
   "execution_count": null,
   "metadata": {},
   "outputs": [],
   "source": []
  }
 ],
 "metadata": {
  "kernelspec": {
   "display_name": "Python 3",
   "language": "python",
   "name": "python3"
  },
  "language_info": {
   "codemirror_mode": {
    "name": "ipython",
    "version": 3
   },
   "file_extension": ".py",
   "mimetype": "text/x-python",
   "name": "python",
   "nbconvert_exporter": "python",
   "pygments_lexer": "ipython3",
   "version": "3.9.0"
  }
 },
 "nbformat": 4,
 "nbformat_minor": 2
}
