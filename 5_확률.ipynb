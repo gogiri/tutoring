{
 "cells": [
  {
   "cell_type": "markdown",
   "metadata": {},
   "source": [
    "# 확률 (probability)\n",
    "\n",
    "1. 동전 던지기 (0,1)\n",
    "\n",
    "2. 주사위 던지기 (1,2,3,4,5,6)\n",
    "\n",
    "3. 블랙잭 (2,3,4,5,6,7,8,9,10,10,10,10, 1 or 11)\n",
    "\n",
    "4. 출근시간 (20 ~ 50)\n",
    "\n",
    "5."
   ]
  },
  {
   "cell_type": "markdown",
   "metadata": {},
   "source": [
    "# 확률 변수\n",
    "\n",
    "1. 동전을 던져서 나올 수 있는 사건 (0,1)\n",
    "\n",
    "2. 동전 두개를 던지면? (0,1,2)\n",
    "\n",
    "3. 카드연체 사건? "
   ]
  },
  {
   "cell_type": "markdown",
   "metadata": {},
   "source": []
  },
  {
   "cell_type": "code",
   "execution_count": null,
   "metadata": {},
   "outputs": [],
   "source": []
  }
 ],
 "metadata": {
  "kernelspec": {
   "display_name": "base",
   "language": "python",
   "name": "python3"
  },
  "language_info": {
   "name": "python",
   "version": "3.11.5"
  }
 },
 "nbformat": 4,
 "nbformat_minor": 2
}
